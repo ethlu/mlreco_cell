{
 "cells": [
  {
   "cell_type": "code",
   "execution_count": null,
   "metadata": {},
   "outputs": [],
   "source": [
    "%load_ext autoreload\n",
    "%autoreload 2\n",
    "%matplotlib widget\n",
    "import numpy as np\n",
    "import pandas as pd\n",
    "import matplotlib.pyplot as plt\n",
    "from IPython.display import display, Markdown, clear_output\n",
    "import ipywidgets as widgets\n",
    "import analysis.yinf as yinf\n",
    "import analysis.products as products\n",
    "import analysis.util as util\n",
    "from data.util import *\n",
    "import os, sys, re\n",
    "from scipy.stats import gaussian_kde, linregress\n",
    "ML_DIR = os.path.expandvars(\"$SCRATCH/mlreco_cell/\")\n",
    "NETS = dict(enumerate(sorted([d for d in os.listdir(os.path.expandvars(ML_DIR))])))\n",
    "SIM_DIR = os.path.expandvars(\"$SCRATCH/larsim/\")\n",
    "SIMS = dict(enumerate(sorted([d for d in os.listdir(os.path.expandvars(SIM_DIR)) if \"reco\" in d])))\n",
    "\n",
    "def parse_stats_dir(stats_dir = './stats'):\n",
    "    stats_files = []\n",
    "    for root, dirs, files in os.walk(stats_dir):\n",
    "        rel_path = os.path.relpath(root, stats_dir)\n",
    "        if rel_path.count('/') != 1: continue\n",
    "        slash_i = rel_path.find('/')\n",
    "        header = [rel_path[:slash_i], rel_path[slash_i+1:]]\n",
    "        for f in files:\n",
    "            epoch, _ = inf_file_info(f)\n",
    "            thres = re.findall('thres([0-9]*[.]?[0-9]+)', f)\n",
    "            if len(thres) == 1: \n",
    "                thres = float(thres[0])\n",
    "            else:\n",
    "                thres = -1\n",
    "            stats_files.append(header+[epoch, thres, root+'/'+f])\n",
    "    return pd.DataFrame(stats_files, columns=['net', 'inf', 'epoch', 'thres', 'file'])\n",
    "\n",
    "STATS = parse_stats_dir().sort_values(by=['epoch'])\n",
    "\n",
    "def select_stats(net=None, inf=None, thres=None, first=0, last=-1, stride=1, stats_df=STATS):\n",
    "    if net is not None:\n",
    "        stats_df = stats_df[stats_df.net==net]\n",
    "    if inf is not None:\n",
    "        stats_df = stats_df[stats_df.inf==inf]\n",
    "    if thres is not None:\n",
    "        stats_df = stats_df[stats_df.thres==thres]\n",
    "    if last == -1:\n",
    "        epochs = sorted(set(stats_df.epoch))[first::stride]\n",
    "    else:\n",
    "        epochs = sorted(set(stats_df.epoch))[first:last+1:stride]\n",
    "    return list(stats_df[stats_df.epoch.isin(epochs)]['file'])\n"
   ]
  },
  {
   "cell_type": "code",
   "execution_count": null,
   "metadata": {},
   "outputs": [],
   "source": [
    "NETS"
   ]
  },
  {
   "cell_type": "code",
   "execution_count": null,
   "metadata": {},
   "outputs": [],
   "source": [
    "SIMS"
   ]
  },
  {
   "cell_type": "code",
   "execution_count": null,
   "metadata": {},
   "outputs": [],
   "source": [
    "with np.load(\"stats/singleE-BeamCosmic-tpc1_ghost3D-164-lr0.01/inference/epoch24-BeamCosmic-tpc1_stats-thres0.17-comptrue-N500-all.npz\",\n",
    "             allow_pickle=True) as f:\n",
    "    stats = f[\"event_stats\"]\n",
    "Index, Auc = [], []\n",
    "for evt in stats:\n",
    "    Index.append(evt[:2])\n",
    "    Auc.append(util.SP_score((evt[2], evt[3])))\n",
    "Index = np.array(Index)\n",
    "Auc = np.array(Auc)\n",
    "args = np.argsort(Auc)[:10]\n",
    "print(Index[args])\n",
    "print(Auc[args])\n",
    "fig, ax = plt.subplots()\n",
    "ax.hist(Auc)\n",
    "ax.set_xlabel(\"AUC\")\n",
    "ax.set_ylabel(\"N Events\")\n",
    "ax.set_title(\"Electron Inference AUC Distribution\")\n",
    "plt.show()\n",
    "    "
   ]
  },
  {
   "cell_type": "code",
   "execution_count": null,
   "metadata": {},
   "outputs": [],
   "source": [
    "with np.load(\"stats/singleE-BeamCosmic-tpc1_ghost3D-164-lr0.01/inference/epoch24-BeamCosmic-tpc1_stats-thres0.17-comptrue-N500-all.npz\",\n",
    "             allow_pickle=True) as f:\n",
    "    stats = f[\"event_stats\"]\n",
    "inf_thres = 18\n",
    "Eff_inf, Pur_inf = [], []\n",
    "Eff_sp, Pur_sp = [], []\n",
    "for evt in stats[:]:\n",
    "    index, event = evt[:2]\n",
    "    try:\n",
    "        with np.load(SIM_DIR+\"reco_1GeV_BeamCosmic_parsed/reco_BeamCosmic_0%d_spacepoint-TPC12.npz\"%index) as f:\n",
    "            voxel_spacepoint = {tuple(pt): None for pt in f[\"arr_%d\"%event]}\n",
    "    except Exception:\n",
    "        continue\n",
    "    with np.load(SIM_DIR+\"reco_1GeV_BeamCosmic_parsed/reco_BeamCosmic_0%d_depo-TPC12.npz\"%index) as f:\n",
    "        voxel_truth = {tuple(pt[:3]): pt[3]*1 for pt in f[\"arr_%d\"%event]}\n",
    "    voxel_truth, voxel_spacepoint = util.filter_voxels_coord(((-100, 700), None, None), *util.downsample_voxels((8, 4, 4), voxel_truth, voxel_spacepoint, reduce=True))\n",
    "    voxel_truth = util.filter_voxel_val(voxel_truth, 0.17)\n",
    "    pur_sp, eff_sp = util.SP_stats(voxel_truth, voxel_spacepoint, False, False)\n",
    "    Pur_sp.append(pur_sp)\n",
    "    Eff_sp.append(eff_sp)\n",
    "    Pur_inf.append(evt[2][inf_thres])\n",
    "    Eff_inf.append(evt[3][inf_thres])\n",
    "\n",
    "fig, axes = plt.subplots(2)\n",
    "axes[0].scatter(Eff_inf, Eff_sp, s=2)\n",
    "axes[1].scatter(Pur_inf, Pur_sp, s=2)\n",
    "for ax in axes:\n",
    "    ax.set_xlim((0,1))\n",
    "    ax.set_ylim((0,1))\n",
    "    ax.set_xlabel(\"Network (thres=0.36)\")\n",
    "    ax.set_ylabel(\"Spacepoint\")\n",
    "axes[0].set_title(\"Sensitivity\")\n",
    "axes[1].set_title(\"Purity\")\n",
    "fig.text(0.2, 0.8, \"Network mean: %.3f\"%np.mean(Eff_inf))\n",
    "fig.text(0.2, 0.7, \"Spacepoint mean: %.3f\"%np.mean(Eff_sp))\n",
    "fig.text(0.2, 0.3, \"Network mean: %.3f\"%np.mean(Pur_inf))\n",
    "fig.text(0.2, 0.2, \"Spacepoint mean: %.3f\"%np.mean(Pur_sp))\n",
    "fig.suptitle(\"Spacepoint vs. Network \\n file: epoch24-BeamCosmic-tpc1_stats-thres0.17-comptrue-N500-v2.npz\")\n",
    "plt.show()"
   ]
  },
  {
   "cell_type": "code",
   "execution_count": null,
   "metadata": {},
   "outputs": [],
   "source": [
    "with np.load(\"stats/singleE-BeamCosmic-tpc1_ghost3D-164-lr0.01/inference/epoch24-Electron_stats-thres0.50-comptrue-N500-v2.npz\",\n",
    "             allow_pickle=True) as f:\n",
    "    stats = f[\"event_stats\"]\n",
    "inf_thres = 18\n",
    "Eff_inf, Pur_inf = [], []\n",
    "Eff_sp, Pur_sp = [], []\n",
    "for evt in stats[:]:\n",
    "    index, event = evt[:2]\n",
    "    try:\n",
    "        with np.load(SIM_DIR+\"reco_1GeV_Electron_parsed-v3/reco_singleElectron_%d_spacepoint-TPC12.npz\"%index) as f:\n",
    "            voxel_spacepoint = {tuple(pt): None for pt in f[\"arr_%d\"%event]}\n",
    "    except Exception:\n",
    "        continue\n",
    "    with np.load(SIM_DIR+\"reco_1GeV_Electron_parsed-v3/reco_singleElectron_%d_energy-TPC12.npz\"%index) as f:\n",
    "        voxel_truth = {tuple(pt[:3]): pt[3]*1/3 for pt in f[\"arr_%d\"%event]}\n",
    "    voxel_truth, voxel_spacepoint = util.filter_voxels_coord(((-100, 700), None, None), *util.downsample_voxels((8, 4, 4), voxel_truth, voxel_spacepoint, reduce=True))\n",
    "    voxel_truth = util.filter_voxel_val(voxel_truth, 0.17)\n",
    "    pur_sp, eff_sp = util.SP_stats(voxel_truth, voxel_spacepoint, False, False)\n",
    "    Pur_sp.append(pur_sp)\n",
    "    Eff_sp.append(eff_sp)\n",
    "    Pur_inf.append(evt[2][inf_thres])\n",
    "    Eff_inf.append(evt[3][inf_thres])\n",
    "\n",
    "fig, axes = plt.subplots(2)\n",
    "axes[0].scatter(Eff_inf, Eff_sp, s=2)\n",
    "axes[1].scatter(Pur_inf, Pur_sp, s=2)\n",
    "for ax in axes:\n",
    "    ax.set_xlim((0,1))\n",
    "    ax.set_ylim((0,1))\n",
    "    ax.set_xlabel(\"Network (thres=0.36)\")\n",
    "    ax.set_ylabel(\"Spacepoint\")\n",
    "axes[0].set_title(\"Sensitivity\")\n",
    "axes[1].set_title(\"Purity\")\n",
    "fig.text(0.2, 0.8, \"Network mean: %.3f\"%np.mean(Eff_inf))\n",
    "fig.text(0.2, 0.7, \"Spacepoint mean: %.3f\"%np.mean(Eff_sp))\n",
    "fig.text(0.2, 0.3, \"Network mean: %.3f\"%np.mean(Pur_inf))\n",
    "fig.text(0.2, 0.2, \"Spacepoint mean: %.3f\"%np.mean(Pur_sp))\n",
    "fig.suptitle(\"Spacepoint vs. Network \\n file: epoch24-Electron_stats-thres0.50-comptrue-N500-v2.npz\")\n",
    "plt.show()"
   ]
  },
  {
   "cell_type": "code",
   "execution_count": null,
   "metadata": {},
   "outputs": [],
   "source": [
    "index = 91\n",
    "event = 1\n",
    "lims = ((100, 600), (550, 700), (120, 150))\n",
    "yinf.plot_yinf_simple(plt.figure(), None, event, 0.35, 1, 0.5/3, lims, \n",
    "                      xy_dir=SIM_DIR+\"reco_1GeV_BeamCosmic_xy/\", yinf_file=ML_DIR+\"singleE-BeamCosmic-tpc1_ghost3D-164-lr0.01/inference/epoch24-batch0-reco_BeamCosmic_0%d_yinf-TPC1.npy\"%index)\n",
    "products.plot_spacepoint(plt.figure(), None ,event , (8, 4, 4), 1, 0.5/3, ((lims[0][0]-62.5, lims[0][1]-62.5), lims[1], lims[2]), \n",
    "                    spacepoint_file=SIM_DIR+\"reco_1GeV_BeamCosmic_parsed/reco_BeamCosmic_0%d_spacepoint-TPC12.npz\"%index, truth_file=SIM_DIR+\"reco_1GeV_BeamCosmic_parsed/reco_BeamCosmic_0%d_depo-TPC12.npz\"%index)"
   ]
  },
  {
   "cell_type": "code",
   "execution_count": null,
   "metadata": {},
   "outputs": [],
   "source": [
    "\n",
    "yinf.plot_yinf_simple(plt.figure(), None, 7, 0.35, E_scale=1/3, true_thres=0.5/3,\n",
    "                      xy_dir=SIM_DIR+\"reco_1GeV_ElectronWire_xy-v3_3/\", yinf_file=ML_DIR+\"singleE-BeamCosmic-tpc1_ghost3D-164-lr0.01/inference/epoch24-batch0-reco_singleElectron_953_yinf-TPC1.npy\")\n",
    "products.plot_spacepoint(plt.figure(), None, 7, (8, 4, 4), E_scale=1/3, true_thres=0.5/3, plot_lims=((400, 600), None, None),\n",
    "                    spacepoint_file=SIM_DIR+\"reco_1GeV_Electron_parsed-v3/reco_singleElectron_953_spacepoint-TPC12.npz\", truth_file=SIM_DIR+\"reco_1GeV_Electron_parsed-v3/reco_singleElectron_953_energy-TPC12.npz\")"
   ]
  },
  {
   "cell_type": "code",
   "execution_count": null,
   "metadata": {},
   "outputs": [],
   "source": [
    "yinf.plot_yinf_simple(plt.figure(), None, 5, 0.35, E_scale=1/3, true_thres=0.1,\n",
    "                      xy_dir=SIM_DIR+\"reco_1GeV_ElectronWire-downsample4-2-2_xy-v3\", yinf_file=ML_DIR+\"singleElectronWire-downsample(4,2,2)v3_ghost3D-165-LabelWeighted10-p0.9/inference/epoch40-batch0-reco_singleElectron_781_yinf-TPC1.npy\")\n",
    "products.plot_spacepoint(plt.figure(), None, 5, (4, 2, 2), E_scale=1/3, true_thres=0.1, plot_lims=((-100, 1400), None, None),\n",
    "                    spacepoint_file=SIM_DIR+\"reco_1GeV_Electron_parsed-v3/reco_singleElectron_781_spacepoint-TPC12.npz\", truth_file=SIM_DIR+\"reco_1GeV_Electron_parsed-v3/reco_singleElectron_781_energy-TPC12.npz\")"
   ]
  },
  {
   "cell_type": "markdown",
   "metadata": {},
   "source": [
    "Following cells are for tuning geom"
   ]
  },
  {
   "cell_type": "code",
   "execution_count": null,
   "metadata": {
    "jupyter": {
     "source_hidden": true
    },
    "tags": []
   },
   "outputs": [],
   "source": [
    "from geom.pdsp import get_APA_geom, VOXEL_SIZE, DOWNSAMPLE, get_TPC_inverse_coords_transform, get_TPC_box\n",
    "from geom.util import voxelize\n",
    "parsed_dir=SIM_DIR+\"reco_1GeV_BeamCosmic_parsed\"\n",
    "product=\"depo\"\n",
    "def join_tpcs(index, event, t0s=(-6, -6), tpcs=[1, 2]):\n",
    "    R0 = get_TPC_box(tpcs[0])[0]\n",
    "    tpcs_key = int(\"\".join(map(str, tpcs)))\n",
    "    fd = filter_fd(files_info(os.listdir(parsed_dir), (1, 2)), lambda k,v: k[1]==product and k[0]==index)\n",
    "    fd_keys = fd.keys()\n",
    "    #print(fd)\n",
    "    for index in fd_keys:\n",
    "        tpc_fd = files_info(fd[index], (0,), tpc_info)\n",
    "        Pts = []\n",
    "        for tpc in tpcs:\n",
    "            tpc = (tpc, )\n",
    "            if tpc not in tpc_fd: break\n",
    "            Pts.append([])\n",
    "            with np.load(parsed_dir+'/'+tpc_fd[tpc][0], allow_pickle=True) as parsed_f:\n",
    "                i = 0\n",
    "                while \"arr_%d\"%i in parsed_f:\n",
    "                    Pts[-1].append(parsed_f[\"arr_%d\"%i])\n",
    "                    i += 1\n",
    "        if len(Pts) != len(tpcs): continue\n",
    "        out_f = tpc_fd[(tpcs[0],)][0].replace(\"TPC%d\"%tpcs[0], \"TPC%d\"%tpcs_key)\n",
    "        Transforms = [get_TPC_inverse_coords_transform(tpc, VOXEL_SIZE, R0, t0)[0] for tpc, t0 in zip(tpcs, t0s)]\n",
    "        data = []\n",
    "        for tpc in range(len(tpcs)):\n",
    "            data.extend(Transforms[tpc](Pts[tpc][event]))\n",
    "        return data\n",
    "\n",
    "files = [f for f in os.listdir(parsed_dir) if file_info(f)[2] == \"spacepoint\"][:10]\n",
    "print(files)\n",
    "T0s, Eff_sp, Pur_sp = [], [], []\n",
    "for ti in np.linspace (-7, -5, 5):\n",
    "    for tj in np.linspace(-7, -5, 5):\n",
    "        Eff_sp_tmp, Pur_sp_tmp = [], []\n",
    "        for sp_f in files:\n",
    "            index = file_info(sp_f)[1]\n",
    "            for event in range(5):\n",
    "                with np.load(parsed_dir+'/'+sp_f) as f:\n",
    "                    voxel_spacepoint = {tuple(pt): None for pt in f[\"arr_%d\"%event]}\n",
    "                joined = join_tpcs(index, event, (ti, tj))\n",
    "                voxel_truth = {tuple(pt[:3]): pt[3]*1/3 for pt in joined}\n",
    "                #voxel_truth, voxel_spacepoint = util.filter_voxels_coord(((-100, 700), None, None), *util.downsample_voxels((8, 4, 4), voxel_truth, voxel_spacepoint, reduce=True))\n",
    "                #voxel_truth = util.filter_voxel_val(voxel_truth, 0.17)\n",
    "                pur_sp, eff_sp = util.SP_stats(voxel_truth, voxel_spacepoint, False, False)\n",
    "                Pur_sp_tmp.append(pur_sp)\n",
    "                Eff_sp_tmp.append(eff_sp)\n",
    "        T0s.append((ti, tj))\n",
    "        Eff_sp.append(np.mean(Eff_sp_tmp))\n",
    "        Pur_sp.append(np.mean(Pur_sp_tmp))\n"
   ]
  },
  {
   "cell_type": "code",
   "execution_count": null,
   "metadata": {
    "jupyter": {
     "source_hidden": true
    },
    "tags": []
   },
   "outputs": [],
   "source": [
    "print(T0s)\n",
    "print(Eff_sp)\n",
    "print(Pur_sp)\n",
    "fig, axes = plt.subplots(2)\n",
    "axes[0].plot(Eff_sp, 'bo')\n",
    "axes[1].plot(Pur_sp, 'bo')"
   ]
  },
  {
   "cell_type": "code",
   "execution_count": null,
   "metadata": {
    "jupyter": {
     "source_hidden": true
    },
    "tags": []
   },
   "outputs": [],
   "source": [
    "Eff_sp = np.array(Eff_sp)\n",
    "Pur_sp = np.array(Pur_sp)\n",
    "T0s=np.array(T0s)\n",
    "args = np.argsort(Eff_sp)[:10:-1]\n",
    "print(T0s[args])\n",
    "print(Eff_sp[args])\n",
    "print(Pur_sp[args])"
   ]
  },
  {
   "cell_type": "code",
   "execution_count": null,
   "metadata": {
    "jupyter": {
     "source_hidden": true
    },
    "tags": []
   },
   "outputs": [],
   "source": [
    "from geom.pdsp import get_APA_geom, VOXEL_SIZE, DOWNSAMPLE, get_TPC_inverse_coords_transform, get_TPC_box\n",
    "from geom.util import voxelize\n",
    "parsed_dir=SIM_DIR+\"reco_1GeV_Electron_parsed-v3\"\n",
    "product=\"energy\"\n",
    "def join_tpcs(index, event, t0s=(-6, -6), tpcs=[1, 2]):\n",
    "    R0 = get_TPC_box(tpcs[0])[0]\n",
    "    tpcs_key = int(\"\".join(map(str, tpcs)))\n",
    "    fd = filter_fd(files_info(os.listdir(parsed_dir), (1, 2)), lambda k,v: k[1]==product and k[0]==index)\n",
    "    fd_keys = fd.keys()\n",
    "    #print(fd)\n",
    "    for index in fd_keys:\n",
    "        tpc_fd = files_info(fd[index], (0,), tpc_info)\n",
    "        Pts = []\n",
    "        for tpc in tpcs:\n",
    "            tpc = (tpc, )\n",
    "            if tpc not in tpc_fd: break\n",
    "            Pts.append([])\n",
    "            with np.load(parsed_dir+'/'+tpc_fd[tpc][0], allow_pickle=True) as parsed_f:\n",
    "                i = 0\n",
    "                while \"arr_%d\"%i in parsed_f:\n",
    "                    Pts[-1].append(parsed_f[\"arr_%d\"%i])\n",
    "                    i += 1\n",
    "        if len(Pts) != len(tpcs): continue\n",
    "        out_f = tpc_fd[(tpcs[0],)][0].replace(\"TPC%d\"%tpcs[0], \"TPC%d\"%tpcs_key)\n",
    "        Transforms = [get_TPC_inverse_coords_transform(tpc, VOXEL_SIZE, R0, t0)[0] for tpc, t0 in zip(tpcs, t0s)]\n",
    "        data = []\n",
    "        for tpc in range(len(tpcs)):\n",
    "            data.extend(Transforms[tpc](Pts[tpc][event]))\n",
    "        return data\n",
    "\n",
    "files = [f for f in os.listdir(parsed_dir) if file_info(f)[2] == \"spacepoint\"][:10]\n",
    "print(files)\n",
    "T0s, Eff_sp, Pur_sp = [], [], []\n",
    "for ti in np.linspace (-7, -5, 5):\n",
    "    for tj in np.linspace(-7, -5, 5):\n",
    "        Eff_sp_tmp, Pur_sp_tmp = [], []\n",
    "        for sp_f in files:\n",
    "            index = file_info(sp_f)[1]\n",
    "            for event in range(5):\n",
    "                with np.load(parsed_dir+'/'+sp_f) as f:\n",
    "                    voxel_spacepoint = {tuple(pt): None for pt in f[\"arr_%d\"%event]}\n",
    "                joined = join_tpcs(index, event, (ti, tj))\n",
    "                voxel_truth = {tuple(pt[:3]): pt[3]*1/3 for pt in joined}\n",
    "                voxel_truth, voxel_spacepoint = util.filter_voxels_coord(((-100, 700), None, None), *util.downsample_voxels((8, 4, 4), voxel_truth, voxel_spacepoint, reduce=True))\n",
    "                #voxel_truth = util.filter_voxel_val(voxel_truth, 0.17)\n",
    "                pur_sp, eff_sp = util.SP_stats(voxel_truth, voxel_spacepoint, False, False)\n",
    "                Pur_sp_tmp.append(pur_sp)\n",
    "                Eff_sp_tmp.append(eff_sp)\n",
    "        T0s.append((ti, tj))\n",
    "        Eff_sp.append(np.mean(Eff_sp_tmp))\n",
    "        Pur_sp.append(np.mean(Pur_sp_tmp))\n",
    "\n",
    "                \n"
   ]
  },
  {
   "cell_type": "code",
   "execution_count": null,
   "metadata": {
    "jupyter": {
     "source_hidden": true
    },
    "tags": []
   },
   "outputs": [],
   "source": [
    "print(T0s)\n",
    "print(Eff_sp)\n",
    "print(Pur_sp)\n",
    "fig, axes = plt.subplots(2)\n",
    "axes[0].plot(Eff_sp, 'bo')\n",
    "axes[1].plot(Pur_sp, 'bo')"
   ]
  },
  {
   "cell_type": "code",
   "execution_count": null,
   "metadata": {
    "jupyter": {
     "source_hidden": true
    },
    "tags": []
   },
   "outputs": [],
   "source": [
    "Eff_sp = np.array(Eff_sp)\n",
    "Pur_sp = np.array(Pur_sp)\n",
    "T0s=np.array(T0s)\n",
    "args = np.argsort(Eff_sp)[:10:-1]\n",
    "print(T0s[args])\n",
    "print(Eff_sp[args])\n",
    "print(Pur_sp[args])"
   ]
  },
  {
   "cell_type": "markdown",
   "metadata": {},
   "source": [
    "## WIRECELL"
   ]
  },
  {
   "cell_type": "code",
   "execution_count": null,
   "metadata": {},
   "outputs": [],
   "source": [
    "index = 1\n",
    "event = 0\n",
    "#index = 1\n",
    "#event = 4\n",
    "lims=None\n",
    "#lims=((100, 400), (0,400), None)\n",
    "#lims = ((600, 800), (300, 400), (0, 100))\n",
    "yinf.plot_yinf_simple(plt.figure(), None, event, 0.35, 1, 0.5/3, lims, \n",
    "                      xy_dir=SIM_DIR+\"reco_1GeV_BeamCosmic_xy/\", yinf_file=ML_DIR+\"singleE-BeamCosmic-tpc1_ghost3D-164-lr0.01/inference/epoch24-batch0-reco_BeamCosmic_%03d_yinf-TPC1.npy\"%index)\n",
    "products.plot_spacepoint(plt.figure(), None,event , (8, 4, 4), True, 20, 1, 0.5/3, lims, \n",
    "                    spacepoint_file=SIM_DIR+\"wirecell_parsed/uniform/reco_1GeV_BeamCosmic_%03d_wirecell-TPC1.npz\"%index, truth_file=SIM_DIR+\"reco_1GeV_BeamCosmic_parsed/reco_BeamCosmic_%03d_depo-TPC1.npz\"%index)"
   ]
  },
  {
   "cell_type": "code",
   "execution_count": null,
   "metadata": {},
   "outputs": [],
   "source": [
    "index = 953\n",
    "event = 10\n",
    "#index = 1\n",
    "#event = 4\n",
    "lims=None\n",
    "#lims=((100, 400), (0,400), None)\n",
    "#lims = ((600, 800), (300, 400), (0, 100))\n",
    "yinf.plot_yinf_simple(plt.figure(), None, event, 0.35, 1/3, 0.5/3, lims, \n",
    "                      xy_dir=SIM_DIR+\"reco_1GeV_ElectronWire_xy-v3_3\", yinf_file=ML_DIR+\"singleE-BeamCosmic-tpc1_ghost3D-164-lr0.01/inference/epoch24-batch0-reco_singleElectron_%03d_yinf-TPC1.npy\"%index)\n",
    "products.plot_spacepoint(plt.figure(), None,event , (8, 4, 4), True, 10, 1/3, 0.5/3, lims, \n",
    "                    spacepoint_file=SIM_DIR+\"wirecell_parsed/center/reco_1GeV_singleElectron_%03d_wirecell-TPC1.npz\"%index, truth_file=SIM_DIR+\"reco_1GeV_Electron_parsed-v3/reco_singleElectron_%03d_energy-TPC1.npz\"%index)"
   ]
  },
  {
   "cell_type": "markdown",
   "metadata": {},
   "source": [
    "Following cells are for tuning geom"
   ]
  },
  {
   "cell_type": "code",
   "execution_count": null,
   "metadata": {
    "jupyter": {
     "source_hidden": true
    },
    "tags": []
   },
   "outputs": [],
   "source": [
    "wirecell_dir = SIM_DIR+\"wirecell_parsed/uniform-old\"\n",
    "parsed_dir=SIM_DIR+\"reco_1GeV_BeamCosmic_parsed\"\n",
    "files = [f for f in os.listdir(wirecell_dir) if \"BeamCosmic\" in f]\n",
    "print(files)\n",
    "dXs, Eff_sp, Pur_sp = [], [], []\n",
    "for dx in range(-2, 18, 2):\n",
    "    Eff_sp_tmp, Pur_sp_tmp = [], []\n",
    "    for sp_f in files:\n",
    "        try:\n",
    "            index = file_info(sp_f)[1]\n",
    "        except Exception:\n",
    "            continue\n",
    "        true_file = parsed_dir+'/reco_BeamCosmic_%03d_depo-TPC1.npz'%index\n",
    "        for event in range(5):\n",
    "            with np.load(wirecell_dir+'/'+sp_f) as f:\n",
    "                voxel_spacepoint = {(pt[0]+dx, pt[1], pt[2]): None for pt in f[\"arr_%d\"%event]}\n",
    "            with np.load(true_file) as f: \n",
    "                voxel_truth = {tuple(pt[:3]): pt[3]*1 for pt in f[\"arr_%d\"%event]}\n",
    "            #voxel_truth, voxel_spacepoint = util.filter_voxels_coord(((-100, 700), None, None), *util.downsample_voxels((8, 4, 4), voxel_truth, voxel_spacepoint, reduce=True))\n",
    "            #voxel_truth = util.filter_voxel_val(voxel_truth, 0.17)\n",
    "            pur_sp, eff_sp = util.SP_stats(voxel_truth, voxel_spacepoint, False, False)\n",
    "            Pur_sp_tmp.append(pur_sp)\n",
    "            Eff_sp_tmp.append(eff_sp)\n",
    "    #print(Eff_sp_tmp)\n",
    "    dXs.append(dx)\n",
    "    Eff_sp.append(np.mean(Eff_sp_tmp))\n",
    "    Pur_sp.append(np.mean(Pur_sp_tmp))\n"
   ]
  },
  {
   "cell_type": "code",
   "execution_count": null,
   "metadata": {
    "jupyter": {
     "source_hidden": true
    },
    "tags": []
   },
   "outputs": [],
   "source": [
    "wirecell_dir = SIM_DIR+\"wirecell_parsed/uniform-old\"\n",
    "parsed_dir=SIM_DIR+\"reco_1GeV_Electron_parsed-v3\"\n",
    "files = [f for f in os.listdir(wirecell_dir) if \"Electron\" in f][:10]\n",
    "dXs, Eff_sp, Pur_sp = [], [], []\n",
    "for dx in range(-2, 18, 2):\n",
    "    Eff_sp_tmp, Pur_sp_tmp = [], []\n",
    "    for sp_f in files:\n",
    "        try:\n",
    "            index = file_info(sp_f)[1]\n",
    "        except Exception:\n",
    "            continue\n",
    "        true_file = parsed_dir+'/reco_singleElectron_%03d_energy-TPC1.npz'%index\n",
    "        for event in range(30):\n",
    "            with np.load(wirecell_dir+'/'+sp_f) as f:\n",
    "                voxel_spacepoint = {(pt[0]+dx, pt[1], pt[2]): None for pt in f[\"arr_%d\"%event]}\n",
    "            with np.load(true_file) as f: \n",
    "                voxel_truth = {tuple(pt[:3]): pt[3]*1/3 for pt in f[\"arr_%d\"%event]}\n",
    "            #voxel_truth, voxel_spacepoint = util.filter_voxels_coord(((-100, 700), None, None), *util.downsample_voxels((8, 4, 4), voxel_truth, voxel_spacepoint, reduce=True))\n",
    "            #voxel_truth = util.filter_voxel_val(voxel_truth, 0.17)\n",
    "            pur_sp, eff_sp = util.SP_stats(voxel_truth, voxel_spacepoint, False, False)\n",
    "            Pur_sp_tmp.append(pur_sp)\n",
    "            Eff_sp_tmp.append(eff_sp)\n",
    "    #print(Eff_sp_tmp)\n",
    "    dXs.append(dx)\n",
    "    Eff_sp.append(np.mean(Eff_sp_tmp))\n",
    "    Pur_sp.append(np.mean(Pur_sp_tmp))\n"
   ]
  },
  {
   "cell_type": "code",
   "execution_count": null,
   "metadata": {
    "jupyter": {
     "source_hidden": true
    },
    "tags": []
   },
   "outputs": [],
   "source": [
    "print(dXs)\n",
    "print(Eff_sp)\n",
    "print(Pur_sp)\n",
    "fig, axes = plt.subplots(2)\n",
    "axes[0].plot(Eff_sp, 'bo')\n",
    "axes[1].plot(Pur_sp, 'bo')"
   ]
  },
  {
   "cell_type": "code",
   "execution_count": null,
   "metadata": {},
   "outputs": [],
   "source": [
    "with np.load(\"stats/singleE-BeamCosmic-tpc1_ghost3D-164-lr0.01/inference/epoch24-BeamCosmic-tpc1_stats-thres0.17-comptrue-N500-all.npz\",\n",
    "             allow_pickle=True) as f:\n",
    "    stats = f[\"event_stats\"]\n",
    "inf_thres, wirecell_thres = 18, 20\n",
    "Eff_inf, Pur_inf = [], []\n",
    "Eff_sp, Pur_sp = [], []\n",
    "for evt in stats[:]:\n",
    "    index, event = evt[:2]\n",
    "    try:\n",
    "        with np.load(SIM_DIR+\"wirecell_parsed/uniform/reco_1GeV_BeamCosmic_%03d_wirecell-TPC1.npz\"%index) as f:\n",
    "            voxel_spacepoint = {tuple(pt[:3]): pt[3] for pt in f[\"arr_%d\"%event]}\n",
    "    except Exception:\n",
    "        continue\n",
    "    with np.load(SIM_DIR+\"reco_1GeV_BeamCosmic_parsed/reco_BeamCosmic_%03d_depo-TPC1.npz\"%index) as f:\n",
    "        voxel_truth = {tuple(pt[:3]): pt[3]*1 for pt in f[\"arr_%d\"%event]}\n",
    "    voxel_truth, voxel_spacepoint = util.downsample_voxels((8, 4, 4), voxel_truth, voxel_spacepoint, reduce=True)\n",
    "    voxel_truth = util.filter_voxel_val(voxel_truth, 0.17)\n",
    "    voxel_spacepoint = util.filter_voxel_val(voxel_spacepoint, wirecell_thres)\n",
    "    pur_sp, eff_sp = util.SP_stats(voxel_truth, voxel_spacepoint, False, False)\n",
    "    Pur_sp.append(pur_sp)\n",
    "    Eff_sp.append(eff_sp)\n",
    "    Pur_inf.append(evt[2][inf_thres])\n",
    "    Eff_inf.append(evt[3][inf_thres])\n",
    "\n",
    "fig, axes = plt.subplots(2)\n",
    "axes[0].scatter(Eff_inf, Eff_sp, s=2)\n",
    "axes[1].scatter(Pur_inf, Pur_sp, s=2)\n",
    "axes[0].plot([0,1], [0, 1], 'k:')\n",
    "axes[1].plot([0,1], [0, 1], 'k:')\n",
    "for ax in axes:\n",
    "    ax.set_xlim((0,1))\n",
    "    ax.set_ylim((0,1))\n",
    "    ax.set_xlabel(\"Network (thres=0.36)\")\n",
    "    ax.set_ylabel(\"Spacepoint (thres=20)\")\n",
    "axes[0].set_title(\"Sensitivity\")\n",
    "axes[1].set_title(\"Purity\")\n",
    "fig.text(0.2, 0.8, \"Network mean: %.3f\"%np.mean(Eff_inf))\n",
    "fig.text(0.2, 0.7, \"Spacepoint mean: %.3f\"%np.mean(Eff_sp))\n",
    "fig.text(0.2, 0.3, \"Network mean: %.3f\"%np.mean(Pur_inf))\n",
    "fig.text(0.2, 0.2, \"Spacepoint mean: %.3f\"%np.mean(Pur_sp))\n",
    "fig.suptitle(\"Wirecell vs. Network \\n file: epoch24-BeamCosmic-tpc1_stats-thres0.17-comptrue-N500-v2.npz\")\n",
    "plt.show()"
   ]
  },
  {
   "cell_type": "code",
   "execution_count": null,
   "metadata": {},
   "outputs": [],
   "source": [
    "with np.load(\"stats/singleE-BeamCosmic-tpc1_ghost3D-164-lr0.01/inference/epoch24-Electron_stats-thres0.50-comptrue-N500-v2.npz\",\n",
    "             allow_pickle=True) as f:\n",
    "    stats = f[\"event_stats\"]\n",
    "inf_thres, wirecell_thres = 18, 20\n",
    "Eff_inf, Pur_inf = [], []\n",
    "Eff_sp, Pur_sp = [], []\n",
    "for evt in stats[:]:\n",
    "    index, event = evt[:2]\n",
    "    try:\n",
    "        with np.load(SIM_DIR+\"wirecell_parsed/uniform/reco_1GeV_singleElectron_%03d_wirecell-TPC1.npz\"%index) as f:\n",
    "            voxel_spacepoint = {tuple(pt[:3]): pt[3] for pt in f[\"arr_%d\"%event]}\n",
    "    except Exception:\n",
    "        continue\n",
    "    with np.load(SIM_DIR+\"reco_1GeV_Electron_parsed-v3/reco_singleElectron_%03d_energy-TPC1.npz\"%index) as f:\n",
    "        voxel_truth = {tuple(pt[:3]): pt[3]*1/3 for pt in f[\"arr_%d\"%event]}\n",
    "    voxel_truth, voxel_spacepoint = util.downsample_voxels((8, 4, 4), voxel_truth, voxel_spacepoint, reduce=True)\n",
    "    voxel_truth = util.filter_voxel_val(voxel_truth, 0.17)\n",
    "    voxel_spacepoint = util.filter_voxel_val(voxel_spacepoint, wirecell_thres)\n",
    "    pur_sp, eff_sp = util.SP_stats(voxel_truth, voxel_spacepoint, False, False)\n",
    "    Pur_sp.append(pur_sp)\n",
    "    Eff_sp.append(eff_sp)\n",
    "    Pur_inf.append(evt[2][inf_thres])\n",
    "    Eff_inf.append(evt[3][inf_thres])\n",
    "\n",
    "fig, axes = plt.subplots(2)\n",
    "axes[0].scatter(Eff_inf, Eff_sp, s=2)\n",
    "axes[1].scatter(Pur_inf, Pur_sp, s=2)\n",
    "axes[0].plot([0,1], [0, 1], 'k:')\n",
    "axes[1].plot([0,1], [0, 1], 'k:')\n",
    "for ax in axes:\n",
    "    ax.set_xlim((0,1))\n",
    "    ax.set_ylim((0,1))\n",
    "    ax.set_xlabel(\"Network (thres=0.36)\")\n",
    "    ax.set_ylabel(\"Spacepoint (thres=20)\")\n",
    "axes[0].set_title(\"Sensitivity\")\n",
    "axes[1].set_title(\"Purity\")\n",
    "fig.text(0.2, 0.8, \"Network mean: %.3f\"%np.mean(Eff_inf))\n",
    "fig.text(0.2, 0.7, \"Spacepoint mean: %.3f\"%np.mean(Eff_sp))\n",
    "fig.text(0.2, 0.3, \"Network mean: %.3f\"%np.mean(Pur_inf))\n",
    "fig.text(0.2, 0.2, \"Spacepoint mean: %.3f\"%np.mean(Pur_sp))\n",
    "fig.suptitle(\"Wirecell vs. Network \\n file: epoch24-Electron_stats-thres0.50-comptrue-N500-v2.npz\")\n",
    "plt.show()"
   ]
  },
  {
   "cell_type": "code",
   "execution_count": null,
   "metadata": {},
   "outputs": [],
   "source": []
  }
 ],
 "metadata": {
  "kernelspec": {
   "display_name": "Python 3",
   "language": "python",
   "name": "python3"
  },
  "language_info": {
   "codemirror_mode": {
    "name": "ipython",
    "version": 3
   },
   "file_extension": ".py",
   "mimetype": "text/x-python",
   "name": "python",
   "nbconvert_exporter": "python",
   "pygments_lexer": "ipython3",
   "version": "3.7.4"
  }
 },
 "nbformat": 4,
 "nbformat_minor": 4
}
