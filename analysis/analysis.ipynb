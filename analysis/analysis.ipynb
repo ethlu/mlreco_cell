{
 "cells": [
  {
   "cell_type": "code",
   "execution_count": 2,
   "metadata": {},
   "outputs": [],
   "source": [
    "%load_ext autoreload\n",
    "%autoreload 2\n",
    "%matplotlib widget\n",
    "import numpy as np\n",
    "import pandas as pd\n",
    "import matplotlib.pyplot as plt\n",
    "from IPython.display import display, Markdown, clear_output\n",
    "import ipywidgets as widgets\n",
    "import analysis.yinf as yinf\n",
    "import analysis.products as products\n",
    "from data.util import *\n",
    "import os, sys, re\n",
    "ML_DIR = os.path.expandvars(\"$SCRATCH/mlreco_cell/\")\n",
    "NETS = dict(enumerate(sorted([d for d in os.listdir(os.path.expandvars(ML_DIR))])))\n",
    "SIM_DIR = os.path.expandvars(\"$SCRATCH/larsim/\")\n",
    "SIMS = dict(enumerate(sorted([d for d in os.listdir(os.path.expandvars(SIM_DIR)) if \"reco\" in d])))\n",
    "\n",
    "def parse_stats_dir(stats_dir = './stats'):\n",
    "    stats_files = []\n",
    "    for root, dirs, files in os.walk(stats_dir):\n",
    "        rel_path = os.path.relpath(root, stats_dir)\n",
    "        if rel_path.count('/') != 1: continue\n",
    "        slash_i = rel_path.find('/')\n",
    "        header = [rel_path[:slash_i], rel_path[slash_i+1:]]\n",
    "        for f in files:\n",
    "            epoch, _ = inf_file_info(f)\n",
    "            thres = re.findall('thres([0-9]*[.]?[0-9]+)', f)\n",
    "            if len(thres) == 1: \n",
    "                thres = float(thres[0])\n",
    "            else:\n",
    "                thres = -1\n",
    "            stats_files.append(header+[epoch, thres, root+'/'+f])\n",
    "    return pd.DataFrame(stats_files, columns=['net', 'inf', 'epoch', 'thres', 'file'])\n",
    "\n",
    "STATS = parse_stats_dir().sort_values(by=['epoch'])"
   ]
  },
  {
   "cell_type": "code",
   "execution_count": 3,
   "metadata": {},
   "outputs": [
    {
     "data": {
      "text/plain": [
       "{0: '.ipynb_checkpoints',\n",
       " 1: 'random_sparse',\n",
       " 2: 'singleElectronHit_ghost2D_1652-rep4',\n",
       " 3: 'singleElectronHit_ghost2D_1652-rep4_L1',\n",
       " 4: 'singleElectronHit_ghost2D_1652-rep4_L1-2',\n",
       " 5: 'singleElectronHit_ghost2D_1652-rep4_L10',\n",
       " 6: 'singleElectronHit_ghost3D-164',\n",
       " 7: 'singleElectronHit_ghost3D-164_L1-1',\n",
       " 8: 'singleElectronHit_ghost3D-164_L1-3',\n",
       " 9: 'singleElectronWire_ghost3D-164',\n",
       " 10: 'singleElectronWire_ghost3D-164_L10',\n",
       " 11: 'sparse',\n",
       " 12: 'sparse_singleElectronHit_ghost2D_1652',\n",
       " 13: 'sparse_singleElectronHit_ghost3D',\n",
       " 14: 'sparse_singleMu',\n",
       " 15: 'sparse_singleMuHit_ghost2D_841',\n",
       " 16: 'sparse_singleMuHit_ghost2D_853',\n",
       " 17: 'sparse_singleMuHit_ghost3D',\n",
       " 18: 'sparse_singleMu_ghost',\n",
       " 19: 'sparse_singleMu_ghost3D'}"
      ]
     },
     "execution_count": 3,
     "metadata": {},
     "output_type": "execute_result"
    }
   ],
   "source": [
    "NETS"
   ]
  },
  {
   "cell_type": "code",
   "execution_count": 4,
   "metadata": {},
   "outputs": [
    {
     "data": {
      "text/plain": [
       "{0: 'reco_1GeV_ElectronHit_xy',\n",
       " 1: 'reco_1GeV_ElectronWire_xy',\n",
       " 2: 'reco_1GeV_Electron_parsed',\n",
       " 3: 'reco_1GeV_Electron_xy',\n",
       " 4: 'reco_1GeV_MuHit_xy',\n",
       " 5: 'reco_1GeV_Pion_parsed',\n",
       " 6: 'reco_1GeV_Pion_xy',\n",
       " 7: 'reco_1GeV_parsed',\n",
       " 8: 'reco_1GeV_parsed_test',\n",
       " 9: 'reco_1GeV_test',\n",
       " 10: 'reco_1GeV_xy',\n",
       " 11: 'reco_1GeV_xy_test'}"
      ]
     },
     "execution_count": 4,
     "metadata": {},
     "output_type": "execute_result"
    }
   ],
   "source": [
    "SIMS"
   ]
  },
  {
   "cell_type": "code",
   "execution_count": 5,
   "metadata": {},
   "outputs": [],
   "source": [
    "def plot_train_summary(net_dir, start_epoch = 2):\n",
    "    print(net_dir)\n",
    "    summary = pd.read_csv(ML_DIR+net_dir+'/summaries_0.csv', delim_whitespace=True)\n",
    "    summary = summary.drop(columns=[\"epoch\"])\n",
    "    summary[[\"train_loss\", \"valid_loss\"]][start_epoch:].plot()\n",
    "    summary[[\"train_acc\", \"valid_acc\"]][start_epoch:].plot()\n",
    "    summary[[\"train_time\", \"valid_time\"]].plot()\n",
    "    \n",
    "def compute_yinf_stats(net_dir, xy_dir, start_epoch = 0, stride=1, n_yinf_files = 10, n_events=50, true_thres=0, inf_dir=\"inference\"):\n",
    "    stats_dir = \"./stats/\"+net_dir+'/'+inf_dir\n",
    "    os.makedirs(stats_dir, exist_ok=True)\n",
    "    print(net_dir)\n",
    "    yinf_dir = ML_DIR+net_dir+'/'+inf_dir\n",
    "    yinf_epoch = files_info(os.listdir(yinf_dir), [0], inf_file_info)\n",
    "    n_epochs = len(yinf_epoch.keys())\n",
    "    for epoch in range(start_epoch, n_epochs, stride):\n",
    "        yinf.yinf_avg_stats(n_yinf_files, n_events, epoch, true_thres, stats_dir, False,  SIM_DIR+xy_dir, yinf_dir)\n",
    "\n",
    "def find_n_last(text, pattern, n):\n",
    "    if n==1: return text.rfind(pattern)\n",
    "    return find_n_last(text[:text.rfind(pattern)], pattern, n-1)\n",
    "\n",
    "def plot_yinf_stats(*stats_files):\n",
    "    stats_files = np.concatenate(stats_files)\n",
    "    labels = [f[find_n_last(f, '/', 3)+1:f.rfind('_')] for f in stats_files]\n",
    "    yinf.compare_yinf_stats(plt.figure(), stats_files, labels)\n",
    "\n",
    "def plot_yinf(fig, fig_true, net_dir, xy_dir, epoch = -1, file_i=0, event = 0, thres=None, true_thres=0, plot_lims=None, view_angle=None, inf_dir=\"inference\"):\n",
    "    yinf_dir = ML_DIR+net_dir+'/'+inf_dir\n",
    "    yinf_epoch = files_info(os.listdir(yinf_dir), [0], inf_file_info)\n",
    "    epoch_i = sorted(yinf_epoch.keys())[epoch]\n",
    "    yinf_file = yinf_epoch[epoch_i][file_i]\n",
    "    x_lim, y_lim, z_lim, thres = yinf.plot_yinf(fig, event, None, thres, true_thres, plot_lims, view_angle, SIM_DIR+xy_dir, yinf_dir+'/'+yinf_file)\n",
    "    if fig_true is not None:\n",
    "        products.compare_true_active(fig_true, event, true_thres, plot_lims, view_angle, False, SIM_DIR+xy_dir+'/'+inf_file_info(yinf_file)[1].replace(\"yinf\", \"xy\")+'.npz')\n",
    "    return x_lim, y_lim, z_lim, thres\n",
    "\n",
    "class PlotYinfWidget():   \n",
    "    def __init__(self, out, **kwargs):\n",
    "        if kwargs.get(\"event\") is None:\n",
    "            kwargs[\"event\"] = 0\n",
    "        self.view_angle = kwargs[\"view_angle\"]          \n",
    "        self.kwargs = kwargs\n",
    "        self.out = out\n",
    "        self.fig = plt.figure()\n",
    "        self.fig_true = plt.figure()\n",
    "        Size = self.fig.get_size_inches() \n",
    "        self.fig.set_size_inches(Size[0]*2, Size[1]*3, forward=True)\n",
    "        self.fig_true.set_size_inches(Size[0]*2, Size[1]*3, forward=True)\n",
    "    def get_widgets(self):\n",
    "        bnext = widgets.Button(description='Next')\n",
    "        bprev = widgets.Button(description='Previous')\n",
    "        bset = widgets.Button(description='Set')\n",
    "        bnext.on_click(callback.next)\n",
    "        bprev.on_click(callback.prev)\n",
    "        bset.on_click(callback.set)\n",
    "        self.xmin = widgets.FloatSlider(\n",
    "             min=400,\n",
    "             max=700.0,\n",
    "             step=0.1,\n",
    "             description='xmin')\n",
    "        self.xmax = widgets.FloatSlider(\n",
    "             min=400,\n",
    "             max=700.0,\n",
    "             step=0.1,\n",
    "             description='xmax')\n",
    "        self.ymin = widgets.FloatSlider(\n",
    "             min=400,\n",
    "             max=700.0,\n",
    "             step=0.1,\n",
    "             description='ymin')\n",
    "        self.ymax = widgets.FloatSlider(\n",
    "             min=400,\n",
    "             max=700.0,\n",
    "             step=0.1,\n",
    "             description='ymax')\n",
    "        self.zmin = widgets.FloatSlider(\n",
    "             min=0,\n",
    "             max=300.0,\n",
    "             step=0.1,\n",
    "             description='zmin')\n",
    "        self.zmax = widgets.FloatSlider(\n",
    "             min=0,\n",
    "             max=300.0,\n",
    "             step=0.1,\n",
    "             description='zmax')\n",
    "        self.thres = widgets.FloatSlider(\n",
    "             min=0,\n",
    "             max=1.0,\n",
    "             step=0.01,\n",
    "             description='threshold')\n",
    "        self.elev = widgets.FloatSlider(\n",
    "             value=self.view_angle[0],\n",
    "             min=-90,\n",
    "             max=90,\n",
    "             step=1,\n",
    "             description='elevation')\n",
    "        self.azim = widgets.FloatSlider(\n",
    "             value=self.view_angle[1],\n",
    "             min=-90,\n",
    "             max=90,\n",
    "             step=1,\n",
    "             description='azimuth')\n",
    "        self._plot_event()\n",
    "        return bnext, bprev, bset, self.xmin, self.xmax, self.ymin, self.ymax, self.zmin, self.zmax, self.thres, self.elev, self.azim\n",
    "    \n",
    "    def next(self, event):\n",
    "        self.kwargs[\"event\"] += 1\n",
    "        self._clear_figs()\n",
    "        self._clear_vals()\n",
    "        self._plot_event()\n",
    "    def prev(self, event):\n",
    "        if self.kwargs[\"event\"]>0:\n",
    "            self.kwargs[\"event\"] -= 1\n",
    "        self._clear_figs()\n",
    "        self._clear_vals()\n",
    "        self._plot_event()\n",
    "    def set(self, event):\n",
    "        self._clear_figs()\n",
    "        self._read_vals()\n",
    "        self._plot_event(False)\n",
    "    \n",
    "    def _plot_event(self, set_vals=True):\n",
    "        with self.out:\n",
    "            clear_output()\n",
    "            defaults = plot_yinf(self.fig, self.fig_true, **self.kwargs)\n",
    "            self.kwargs[\"plot_lims\"] = defaults[:3]\n",
    "            self.kwargs[\"thres\"] = defaults[3]\n",
    "            if set_vals:\n",
    "                self._set_vals()    \n",
    "    def _set_vals(self):\n",
    "        self.xmin.min=self.xmax.min=self.xmin.value = self.kwargs[\"plot_lims\"][0][0]\n",
    "        self.xmin.max=self.xmax.max=self.xmax.value = self.kwargs[\"plot_lims\"][0][1]\n",
    "        self.ymin.min=self.ymax.min=self.ymin.value = self.kwargs[\"plot_lims\"][1][0]\n",
    "        self.ymin.max=self.ymax.max=self.ymax.value = self.kwargs[\"plot_lims\"][1][1]\n",
    "        self.zmin.min=self.zmax.min=self.zmin.value = self.kwargs[\"plot_lims\"][2][0]\n",
    "        self.zmin.max=self.zmax.max=self.zmax.value = self.kwargs[\"plot_lims\"][2][1]\n",
    "        self.thres.value = self.kwargs[\"thres\"]\n",
    "    def _read_vals(self):\n",
    "        self.kwargs[\"plot_lims\"] = ((self.xmin.value, self.xmax.value),\n",
    "                                    (self.ymin.value, self.ymax.value),\n",
    "                                    (self.zmin.value, self.zmax.value))\n",
    "        self.kwargs[\"thres\"] = self.thres.value\n",
    "        self.kwargs[\"view_angle\"] = (self.elev.value, self.azim.value)\n",
    "    def _clear_vals(self):\n",
    "        self.kwargs[\"plot_lims\"] = None\n",
    "        self.kwargs[\"thres\"] = None\n",
    "        self.kwargs[\"view_angle\"] = self.view_angle\n",
    "    def _clear_figs(self):\n",
    "        self.fig.clf()\n",
    "        self.fig_true.clf()\n",
    "\n",
    "def select_stats(net=None, inf=None, thres=None, first=0, last=-1, stride=1, stats_df=STATS):\n",
    "    if net is not None:\n",
    "        stats_df = stats_df[stats_df.net==net]\n",
    "    if inf is not None:\n",
    "        stats_df = stats_df[stats_df.inf==inf]\n",
    "    if thres is not None:\n",
    "        stats_df = stats_df[stats_df.thres==thres]\n",
    "    if last == -1:\n",
    "        return stats_df.sort_values(by=['epoch']).iloc[first::stride, :]['file']\n",
    "    return stats_df.sort_values(by=['epoch']).iloc[first:last+1:stride, :]['file']\n"
   ]
  },
  {
   "cell_type": "code",
   "execution_count": null,
   "metadata": {},
   "outputs": [],
   "source": [
    "net = 'sparse_singleElectronHit_ghost2D_1652'\n",
    "plot_train_summary(net)\n",
    "#compute_yinf_stats(net, SIMS[0], 1, true_thres=0.5, n_yinf_files=5)\n",
    "#compute_yinf_stats(net, SIMS[0], 1, true_thres=0, n_yinf_files=5)\n",
    "plot_yinf_stats(select_stats(net, \"inference\", 0.5, -10, stride = 2),  select_stats(net, \"inf_train\"))"
   ]
  },
  {
   "cell_type": "code",
   "execution_count": null,
   "metadata": {},
   "outputs": [],
   "source": [
    "net = 'singleElectronHit_ghost2D_1652-rep4'\n",
    "plot_train_summary(net)\n",
    "compute_yinf_stats(net, SIMS[0], 1, true_thres=0.5, n_yinf_files=5, inf_dir='inf_train')\n",
    "compute_yinf_stats(net, SIMS[0], 1, true_thres=0, n_yinf_files=5, inf_dir='inf_train')\n",
    "plot_yinf_stats(select_stats(net, \"inference\", 0.5, stride = 2),  select_stats(net, \"inf_train\"))\n"
   ]
  },
  {
   "cell_type": "code",
   "execution_count": null,
   "metadata": {},
   "outputs": [],
   "source": [
    "net = 'singleElectronHit_ghost2D_1652-rep4_L1-2'\n",
    "plot_train_summary(net, 5)\n",
    "#compute_yinf_stats(net, SIMS[0], 1, true_thres=0.5, n_yinf_files=5)\n",
    "#compute_yinf_stats(net, SIMS[0], 1, true_thres=0, n_yinf_files=5)\n",
    "#compute_yinf_stats(net, SIMS[0], true_thres=0.5, n_yinf_files=5, inf_dir='inf_train')\n",
    "\n",
    "plot_yinf_stats(select_stats(net, \"inf_train\", 0.5))\n",
    "plot_yinf_stats(select_stats(net, \"inference\", 0.5, -12, stride = 2))\n",
    "plot_yinf_stats(select_stats(net, \"inference\", 0.5, -12, stride = 2), select_stats(net, \"inf_train\"))\n",
    "plot_yinf_stats(select_stats(net, \"inference\", 0.5, stride = 4), \n",
    "                select_stats(net, \"inference\", 0, stride = 4), \n",
    "                select_stats(net, \"inf_train\"))"
   ]
  },
  {
   "cell_type": "code",
   "execution_count": 6,
   "metadata": {},
   "outputs": [
    {
     "name": "stdout",
     "output_type": "stream",
     "text": [
      "singleElectronHit_ghost3D-164\n"
     ]
    },
    {
     "data": {
      "application/vnd.jupyter.widget-view+json": {
       "model_id": "281c8a6f5d74422ba17b00f2193cc493",
       "version_major": 2,
       "version_minor": 0
      },
      "text/plain": [
       "Canvas(toolbar=Toolbar(toolitems=[('Home', 'Reset original view', 'home', 'home'), ('Back', 'Back to previous …"
      ]
     },
     "metadata": {},
     "output_type": "display_data"
    },
    {
     "data": {
      "application/vnd.jupyter.widget-view+json": {
       "model_id": "e87677da7b6642fdaa2bb5a1d5d5c821",
       "version_major": 2,
       "version_minor": 0
      },
      "text/plain": [
       "Canvas(toolbar=Toolbar(toolitems=[('Home', 'Reset original view', 'home', 'home'), ('Back', 'Back to previous …"
      ]
     },
     "metadata": {},
     "output_type": "display_data"
    },
    {
     "data": {
      "application/vnd.jupyter.widget-view+json": {
       "model_id": "5fb00259050a4589b0f51f17bf9c118b",
       "version_major": 2,
       "version_minor": 0
      },
      "text/plain": [
       "Canvas(toolbar=Toolbar(toolitems=[('Home', 'Reset original view', 'home', 'home'), ('Back', 'Back to previous …"
      ]
     },
     "metadata": {},
     "output_type": "display_data"
    },
    {
     "data": {
      "application/vnd.jupyter.widget-view+json": {
       "model_id": "dd45aaa6243141eeaa85cbeb9b159b31",
       "version_major": 2,
       "version_minor": 0
      },
      "text/plain": [
       "Canvas(toolbar=Toolbar(toolitems=[('Home', 'Reset original view', 'home', 'home'), ('Back', 'Back to previous …"
      ]
     },
     "metadata": {},
     "output_type": "display_data"
    },
    {
     "data": {
      "application/vnd.jupyter.widget-view+json": {
       "model_id": "a88ffebebc7d4165998273bc49e8da4e",
       "version_major": 2,
       "version_minor": 0
      },
      "text/plain": [
       "Canvas(toolbar=Toolbar(toolitems=[('Home', 'Reset original view', 'home', 'home'), ('Back', 'Back to previous …"
      ]
     },
     "metadata": {},
     "output_type": "display_data"
    },
    {
     "data": {
      "application/vnd.jupyter.widget-view+json": {
       "model_id": "24457f417a1d45019886a3f7e96e60cc",
       "version_major": 2,
       "version_minor": 0
      },
      "text/plain": [
       "Canvas(toolbar=Toolbar(toolitems=[('Home', 'Reset original view', 'home', 'home'), ('Back', 'Back to previous …"
      ]
     },
     "metadata": {},
     "output_type": "display_data"
    },
    {
     "data": {
      "application/vnd.jupyter.widget-view+json": {
       "model_id": "01b9a71e016f4629ba87c874fcfbdbf7",
       "version_major": 2,
       "version_minor": 0
      },
      "text/plain": [
       "VBox(children=(HBox(children=(Button(description='Previous', style=ButtonStyle()), Button(description='Next', …"
      ]
     },
     "metadata": {},
     "output_type": "display_data"
    }
   ],
   "source": [
    "net = 'singleElectronHit_ghost3D-164'\n",
    "plot_train_summary(net, 5)\n",
    "#compute_yinf_stats(net, SIMS[0], true_thres=0.5, n_yinf_files=5, inf_dir='inf_train')\n",
    "#compute_yinf_stats(net, SIMS[0], 1, true_thres=0.5, n_yinf_files=5)\n",
    "#compute_yinf_stats(net, SIMS[0], 1, true_thres=0, n_yinf_files=5)\n",
    "\n",
    "#plot_yinf_stats(select_stats(net, \"inf_train\"))\n",
    "plot_yinf_stats(select_stats(net, \"inference\", 0.5, -12, stride = 2))\n",
    "#plot_yinf_stats(select_stats(net, \"inference\", 0.5, -12, stride = 2), select_stats(net, \"inf_train\"))\n",
    "\n",
    "out = widgets.Output()\n",
    "callback = PlotYinfWidget(out, net_dir=net, xy_dir=SIMS[0], true_thres=0.5, view_angle=(0,0), inf_dir='inference')\n",
    "bnext, bprev, bset, xmin, xmax, ymin, ymax, zmin, zmax, thres, elev, azim = callback.get_widgets()\n",
    "bs = widgets.HBox([bprev, bnext, bset])\n",
    "viewangle = widgets.HBox([elev, azim])\n",
    "x_lims = widgets.HBox([xmin, xmax])\n",
    "y_lims = widgets.HBox([ymin, ymax])\n",
    "z_lims = widgets.HBox([zmin, zmax])\n",
    "widgets.VBox([bs, thres, viewangle, x_lims, y_lims, z_lims, out])\n"
   ]
  },
  {
   "cell_type": "code",
   "execution_count": null,
   "metadata": {},
   "outputs": [],
   "source": [
    "net = 'singleElectronWire_ghost3D-164'\n",
    "plot_train_summary(net, 10)\n",
    "#compute_yinf_stats(net, SIMS[0], true_thres=0.5, n_yinf_files=5, inf_dir='inf_train')\n",
    "compute_yinf_stats(net, SIMS[1], 1, stride=2, true_thres=0.5, n_yinf_files=5)\n",
    "#compute_yinf_stats(net, SIMS[1], 1, stride=2, true_thres=0, n_yinf_files=5)\n",
    "\n",
    "#plot_yinf_stats(select_stats(net, \"inf_train\"))\n",
    "plot_yinf_stats(select_stats(net, \"inference\", 0.5, -12, stride = 1))\n",
    "#plot_yinf_stats(select_stats(net, \"inference\", 0.5, -12, stride = 2), select_stats(net, \"inf_train\"))"
   ]
  },
  {
   "cell_type": "code",
   "execution_count": null,
   "metadata": {},
   "outputs": [],
   "source": [
    "net = 'singleElectronHit_ghost3D-164_L1-1'\n",
    "plot_train_summary(net, 5)\n",
    "#compute_yinf_stats(net, SIMS[0], true_thres=0.5, n_yinf_files=5, inf_dir='inf_train')\n",
    "compute_yinf_stats(net, SIMS[0], 1, stride=2, true_thres=0.5, n_yinf_files=5)\n",
    "#compute_yinf_stats(net, SIMS[0], 1, stride=2, true_thres=0, n_yinf_files=5)\n",
    "\n",
    "#plot_yinf_stats(select_stats(net, \"inf_train\"))\n",
    "plot_yinf_stats(select_stats(net, \"inference\", 0.5,  -5, stride = 1))\n",
    "plot_yinf_stats(select_stats(net, \"inference\", 0.5, stride = 1), select_stats(net, \"inf_train\"))"
   ]
  },
  {
   "cell_type": "code",
   "execution_count": null,
   "metadata": {},
   "outputs": [],
   "source": [
    "net = 'singleElectronHit_ghost3D-164_L1-3'\n",
    "plot_train_summary(net, 8)\n",
    "#compute_yinf_stats(net, SIMS[0], true_thres=0.5, n_yinf_files=5, inf_dir='inf_train')\n",
    "#compute_yinf_stats(net, SIMS[0], 1, stride=2, true_thres=0.5, n_yinf_files=5)\n",
    "#compute_yinf_stats(net, SIMS[0], 1, true_thres=0, n_yinf_files=5)\n",
    "\n",
    "#plot_yinf_stats(select_stats(net, \"inf_train\"))\n",
    "plot_yinf_stats(select_stats(net, \"inference\", 0.5, -10, stride = 2))\n",
    "plot_yinf_stats(select_stats(net, \"inference\", 0.5, stride = 1), select_stats(net, \"inf_train\"))"
   ]
  },
  {
   "cell_type": "code",
   "execution_count": null,
   "metadata": {},
   "outputs": [],
   "source": [
    "THRES=0.5\n",
    "\n",
    "plot_yinf_stats(select_stats('sparse_singleElectronHit_ghost3D', 'inference', first=-1), \n",
    "               select_stats('singleElectronHit_ghost2D_1652-rep4_L1-2', 'inference', THRES, first= -1),\n",
    "                select_stats('singleElectronHit_ghost2D_1652-rep4', 'inference', THRES,first= -1),\n",
    "               select_stats('sparse_singleElectronHit_ghost2D_1652', 'inference', first= -1),\n",
    "               select_stats('singleElectronHit_ghost3D-164', 'inference', THRES, -1),\n",
    "                select_stats('singleElectronHit_ghost3D-164_L1-1', 'inference', THRES, first= -1),\n",
    "               select_stats('singleElectronHit_ghost3D-164_L1-3', 'inference', THRES, first= -1),\n",
    "                select_stats('singleElectronWire_ghost3D-164', 'inference', THRES, -1),)\n",
    "                #['./stats//sparse_singleElectronHit_ghost2D_1652/inference/epoch27_stats-N250.npz',\n",
    "                    #'./stats//singleElectronHit_ghost2D_1652-rep4/inference/epoch20_stats-N250.npz', \n",
    "                   #'./stats//singleElectronHit_ghost3D-164/inference/epoch18_stats-N250.npz',])\n",
    "            \n",
    "plot_yinf_stats(\n",
    "               select_stats('singleElectronHit_ghost2D_1652-rep4_L1-2', 'inference', THRES, first= -1),\n",
    "                select_stats('singleElectronHit_ghost2D_1652-rep4', 'inference', THRES,first= -1),\n",
    "               select_stats('sparse_singleElectronHit_ghost2D_1652', 'inference', first= -1),)\n",
    "\n",
    "plot_yinf_stats(select_stats('sparse_singleElectronHit_ghost3D', 'inference', first=-1), \n",
    "    select_stats('singleElectronHit_ghost3D-164', 'inference', THRES, -1),\n",
    "                select_stats('singleElectronHit_ghost3D-164_L1-1', 'inference', THRES, first= -1),\n",
    "               select_stats('singleElectronHit_ghost3D-164_L1-3', 'inference', THRES, first= -1),\n",
    "                select_stats('singleElectronWire_ghost3D-164', 'inference', THRES, -1),)\n",
    "            \n",
    "plot_yinf_stats(select_stats('singleElectronHit_ghost3D-164', 'inference', THRES, -1),\n",
    "               select_stats('singleElectronHit_ghost3D-164', 'inf_train',  THRES, first=-1),\n",
    "               select_stats('singleElectronHit_ghost2D_1652-rep4', 'inference', THRES, -1),\n",
    "               select_stats('singleElectronHit_ghost2D_1652-rep4', 'inf_train',  THRES, first=-1),\n",
    "                select_stats('singleElectronHit_ghost2D_1652-rep4_L1-2', 'inference', THRES, -1),\n",
    "                select_stats('singleElectronHit_ghost2D_1652-rep4_L1-2', 'inf_train',  THRES, first= -1),\n",
    "                select_stats('sparse_singleElectronHit_ghost2D_1652', 'inference', first= -1),\n",
    "                select_stats('singleElectronHit_ghost3D-164_L1-1', 'inference', THRES, first= -1)\n",
    "            )\n"
   ]
  },
  {
   "cell_type": "code",
   "execution_count": null,
   "metadata": {},
   "outputs": [],
   "source": []
  }
 ],
 "metadata": {
  "kernelspec": {
   "display_name": "Python 3",
   "language": "python",
   "name": "python3"
  },
  "language_info": {
   "codemirror_mode": {
    "name": "ipython",
    "version": 3
   },
   "file_extension": ".py",
   "mimetype": "text/x-python",
   "name": "python",
   "nbconvert_exporter": "python",
   "pygments_lexer": "ipython3",
   "version": "3.7.4"
  }
 },
 "nbformat": 4,
 "nbformat_minor": 4
}
