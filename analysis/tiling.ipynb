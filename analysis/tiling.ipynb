{
 "cells": [
  {
   "cell_type": "code",
   "execution_count": null,
   "metadata": {},
   "outputs": [],
   "source": [
    "%load_ext autoreload\n",
    "%autoreload 2\n",
    "%matplotlib widget\n",
    "import numpy as np\n",
    "import pandas as pd\n",
    "import matplotlib.pyplot as plt\n",
    "from IPython.display import display, Markdown, clear_output\n",
    "import ipywidgets as widgets\n",
    "import analysis.yinf as yinf\n",
    "import analysis.products as products\n",
    "import analysis.util as util\n",
    "from data.util import *\n",
    "import os, sys, re\n",
    "from scipy.stats import gaussian_kde\n",
    "ML_DIR = os.path.expandvars(\"$SCRATCH/mlreco_cell/\")\n",
    "NETS = dict(enumerate(sorted([d for d in os.listdir(os.path.expandvars(ML_DIR))])))\n",
    "SIM_DIR = os.path.expandvars(\"$SCRATCH/larsim/\")\n",
    "SIMS = dict(enumerate(sorted([d for d in os.listdir(os.path.expandvars(SIM_DIR)) if \"reco\" in d])))\n",
    "\n",
    "def parse_stats_dir(stats_dir = './stats'):\n",
    "    stats_files = []\n",
    "    for root, dirs, files in os.walk(stats_dir):\n",
    "        rel_path = os.path.relpath(root, stats_dir)\n",
    "        if rel_path.count('/') != 1: continue\n",
    "        slash_i = rel_path.find('/')\n",
    "        header = [rel_path[:slash_i], rel_path[slash_i+1:]]\n",
    "        for f in files:\n",
    "            epoch, _ = inf_file_info(f)\n",
    "            thres = re.findall('thres([0-9]*[.]?[0-9]+)', f)\n",
    "            if len(thres) == 1: \n",
    "                thres = float(thres[0])\n",
    "            else:\n",
    "                thres = -1\n",
    "            stats_files.append(header+[epoch, thres, root+'/'+f])\n",
    "    return pd.DataFrame(stats_files, columns=['net', 'inf', 'epoch', 'thres', 'file'])\n",
    "\n",
    "STATS = parse_stats_dir().sort_values(by=['epoch'])\n",
    "\n",
    "def select_stats(net=None, inf=None, thres=None, first=0, last=-1, stride=1, stats_df=STATS):\n",
    "    if net is not None:\n",
    "        stats_df = stats_df[stats_df.net==net]\n",
    "    if inf is not None:\n",
    "        stats_df = stats_df[stats_df.inf==inf]\n",
    "    if thres is not None:\n",
    "        stats_df = stats_df[stats_df.thres==thres]\n",
    "    if last == -1:\n",
    "        epochs = sorted(set(stats_df.epoch))[first::stride]\n",
    "    else:\n",
    "        epochs = sorted(set(stats_df.epoch))[first:last+1:stride]\n",
    "    return list(stats_df[stats_df.epoch.isin(epochs)]['file'])\n"
   ]
  },
  {
   "cell_type": "code",
   "execution_count": null,
   "metadata": {},
   "outputs": [],
   "source": [
    "NETS"
   ]
  },
  {
   "cell_type": "code",
   "execution_count": null,
   "metadata": {},
   "outputs": [],
   "source": [
    "SIMS"
   ]
  },
  {
   "cell_type": "code",
   "execution_count": null,
   "metadata": {},
   "outputs": [],
   "source": [
    "xy_dir = SIM_DIR+\"/reco_1GeV_BeamCosmicHit_xy/\"\n",
    "BCHit = {}\n",
    "for file in sorted(os.listdir(xy_dir))[:100]:\n",
    "    for event in range(5):\n",
    "        voxel_truth, voxel_active, _ = products.parse_xy(event, 1, xy_dir+file)\n",
    "        voxel_truth = util.filter_voxel_val(voxel_truth, 0.17)\n",
    "        BCHit[(file, event)] = util.SP_stats(voxel_truth, voxel_active, False, False)"
   ]
  },
  {
   "cell_type": "code",
   "execution_count": null,
   "metadata": {},
   "outputs": [],
   "source": [
    "Pur_Hit = [x[0] for x in BCHit.values()]\n",
    "Eff_Hit = [x[1] for x in BCHit.values()]\n",
    "print(np.mean(Pur_Hit))\n",
    "print(np.mean(Eff_Hit))"
   ]
  },
  {
   "cell_type": "code",
   "execution_count": null,
   "metadata": {},
   "outputs": [],
   "source": [
    "xy_dir = SIM_DIR+\"/reco_1GeV_BeamCosmic_xy/\"\n",
    "BCWire = {}\n",
    "for file in sorted(os.listdir(xy_dir))[:100]:\n",
    "    for event in range(5):\n",
    "        voxel_truth, voxel_active, _ = products.parse_xy(event, 1, xy_dir+file)\n",
    "        voxel_truth = util.filter_voxel_val(voxel_truth, 0.17)\n",
    "        BCWire[(file, event)] = util.SP_stats(voxel_truth, voxel_active, False, False)"
   ]
  },
  {
   "cell_type": "code",
   "execution_count": null,
   "metadata": {},
   "outputs": [],
   "source": [
    "BCKeys = BCHit.keys() & BCWire.keys()\n",
    "Pur_Wire = [BCWire[k][0] for k in BCKeys]\n",
    "Eff_Wire = [BCWire[k][1] for k in BCKeys]\n",
    "Pur_Hit = [BCHit[k][0] for k in BCKeys]\n",
    "Eff_Hit = [BCHit[k][1] for k in BCKeys]\n",
    "print(np.mean(Pur_Wire))\n",
    "print(np.mean(Eff_Wire))\n",
    "print(np.mean(Pur_Hit))\n",
    "print(np.mean(Eff_Hit))\n",
    "print(np.corrcoef(Eff_Hit, Eff_Wire))\n",
    "print(np.corrcoef(Pur_Hit, Pur_Wire))"
   ]
  },
  {
   "cell_type": "code",
   "execution_count": null,
   "metadata": {},
   "outputs": [],
   "source": [
    "fig, axes = plt.subplots(2)\n",
    "axes[0].scatter(Eff_Wire, Eff_Hit, s=2)\n",
    "axes[1].scatter(Pur_Wire, Pur_Hit, s=2)\n",
    "for ax in axes:\n",
    "    ax.set_xlim((0,1))\n",
    "    ax.set_ylim((0,1))\n",
    "    ax.set_xlabel(\"Wire\")\n",
    "    ax.set_ylabel(\"Hit\")\n",
    "axes[0].set_title(\"Sensitivity\")\n",
    "axes[1].set_title(\"Purity\")\n",
    "fig.text(0.2, 0.8, \"Wire mean: %.3f\"%np.mean(Eff_Wire))\n",
    "fig.text(0.2, 0.7, \"Hit mean: %.3f\"%np.mean(Eff_Hit))\n",
    "fig.text(0.2, 0.3, \"Wire mean: %.3f\"%np.mean(Pur_Wire))\n",
    "fig.text(0.2, 0.2, \"Hit mean: %.3f\"%np.mean(Pur_Hit))\n",
    "fig.suptitle(\"BeamCosmic Wire vs. Hit (%d Events)\"%len(Eff_Wire))"
   ]
  },
  {
   "cell_type": "code",
   "execution_count": null,
   "metadata": {},
   "outputs": [],
   "source": [
    "xy_dir = SIM_DIR+\"/reco_1GeV_ElectronWire_xy-v3_3/\"\n",
    "EWire = {}\n",
    "for file in [f for f in os.listdir(xy_dir) if file_info(f)[1]>950 and file_info(f)[1]<=960 and batch_info(f)[0]==0]:\n",
    "    for event in range(50):\n",
    "        voxel_truth, voxel_active, _ = products.parse_xy(event, 1/3, xy_dir+file)\n",
    "        voxel_truth = util.filter_voxel_val(voxel_truth, 0.17)\n",
    "        EWire[(file, event)] = util.SP_stats(voxel_truth, voxel_active, False, False)"
   ]
  },
  {
   "cell_type": "code",
   "execution_count": null,
   "metadata": {},
   "outputs": [],
   "source": [
    "Pur = [x[0] for x in EWire.values()]\n",
    "Sen = [x[1] for x in EWire.values()]\n",
    "print(np.mean(Pur))\n",
    "print(np.mean(Sen))"
   ]
  },
  {
   "cell_type": "code",
   "execution_count": null,
   "metadata": {},
   "outputs": [],
   "source": [
    "xy_dir = SIM_DIR+\"/reco_1GeV_ElectronHit_xy-v3/\"\n",
    "EHit = {}\n",
    "for file in [f for f in os.listdir(xy_dir) if file_info(f)[1]>950 and file_info(f)[1]<=960]:\n",
    "    for event in range(100):\n",
    "        voxel_truth, voxel_active, _ = products.parse_xy(event, 1/3, xy_dir+file)\n",
    "        voxel_truth = util.filter_voxel_val(voxel_truth, 0.17)\n",
    "        EHit[(file, event)] = util.SP_stats(voxel_truth, voxel_active, False, False)"
   ]
  },
  {
   "cell_type": "code",
   "execution_count": null,
   "metadata": {},
   "outputs": [],
   "source": [
    "Pur = [x[0] for x in EHit.values()]\n",
    "Sen = [x[1] for x in EHit.values()]\n",
    "print(np.mean(Pur))\n",
    "print(np.mean(Sen))"
   ]
  },
  {
   "cell_type": "code",
   "execution_count": null,
   "metadata": {},
   "outputs": [],
   "source": [
    "EKeys = EHit.keys() & EWire.keys()\n",
    "Pur_Wire = [EWire[k][0] for k in EKeys]\n",
    "Eff_Wire = [EWire[k][1] for k in EKeys]\n",
    "Pur_Hit = [EHit[k][0] for k in EKeys]\n",
    "Eff_Hit = [EHit[k][1] for k in EKeys]\n",
    "print(np.mean(Pur_Wire))\n",
    "print(np.mean(Eff_Wire))\n",
    "print(np.mean(Pur_Hit))\n",
    "print(np.mean(Eff_Hit))\n",
    "print(np.corrcoef(Eff_Hit, Eff_Wire))\n",
    "print(np.corrcoef(Pur_Hit, Pur_Wire))"
   ]
  },
  {
   "cell_type": "code",
   "execution_count": null,
   "metadata": {},
   "outputs": [],
   "source": [
    "fig, axes = plt.subplots(2)\n",
    "axes[0].scatter(Eff_Wire, Eff_Hit, s=2)\n",
    "axes[1].scatter(Pur_Wire, Pur_Hit, s=2)\n",
    "for ax in axes:\n",
    "    ax.set_xlim((0,1))\n",
    "    ax.set_ylim((0,1))\n",
    "    ax.set_xlabel(\"Wire\")\n",
    "    ax.set_ylabel(\"Hit\")\n",
    "axes[0].set_title(\"Sensitivity\")\n",
    "axes[1].set_title(\"Purity\")\n",
    "fig.text(0.2, 0.8, \"Wire mean: %.3f\"%np.mean(Eff_Wire))\n",
    "fig.text(0.2, 0.7, \"Hit mean: %.3f\"%np.mean(Eff_Hit))\n",
    "fig.text(0.2, 0.3, \"Wire mean: %.3f\"%np.mean(Pur_Wire))\n",
    "fig.text(0.2, 0.2, \"Hit mean: %.3f\"%np.mean(Pur_Hit))\n",
    "fig.suptitle(\"Electron Wire vs. Hit\") "
   ]
  },
  {
   "cell_type": "code",
   "execution_count": null,
   "metadata": {},
   "outputs": [],
   "source": [
    "index = 11\n",
    "event = 3\n",
    "#products.plot_xy(plt.figure(), event, SIM_DIR+\"reco_1GeV_BeamCosmicHit_xy/batch0-reco_BeamCosmic_0%d_xy-TPC1.npz\"%index)\n",
    "products.plot_xy(plt.figure(), event, 1, .5/3, 10, SIM_DIR+\"reco_1GeV_BeamCosmic_xy/batch0-reco_BeamCosmic_%03d_xy-TPC1.npz\"%index)"
   ]
  },
  {
   "cell_type": "code",
   "execution_count": null,
   "metadata": {},
   "outputs": [],
   "source": [
    "products.plot_mc_stats(plt.figure(), \"mc/reco_1GeV_BeamCosmicHit_xy-tpc1-mc.npz\")"
   ]
  },
  {
   "cell_type": "code",
   "execution_count": null,
   "metadata": {},
   "outputs": [],
   "source": [
    "index = 953\n",
    "event = 1\n",
    "products.plot_xy(plt.figure(), event, 1/3, .5/3, 50, xy_file=SIM_DIR+\"reco_1GeV_ElectronWire_xy-v3_3/batch0-reco_singleElectron_%03d_xy-TPC1.npz\"%index)"
   ]
  },
  {
   "cell_type": "code",
   "execution_count": null,
   "metadata": {},
   "outputs": [],
   "source": [
    "stats_file = \"mc/reco_1GeV_BeamCosmic_xy-tpc1-mc.npz\"\n",
    "Sizes_true, Sizes_cluster, Indexes, Tracks, Purs, Effs, Thetas, Phis = [], [], [] ,[], [], [], [], []\n",
    "PDG_id = [13, -13]\n",
    "i = 0\n",
    "with np.load(stats_file, allow_pickle=True) as stats_f:\n",
    "    for index, event_mc in stats_f.items():\n",
    "        for mc, coords in event_mc.item().items():\n",
    "            if not mc[1] in PDG_id: continue\n",
    "            track_stats = mc[3]\n",
    "            if track_stats is None: continue\n",
    "            cluster_size = len(coords[0])\n",
    "            if cluster_size < 50: continue\n",
    "                \n",
    "            Thetas.append(track_stats[0])\n",
    "            Phis.append(track_stats[1])\n",
    "            Indexes.append(index)\n",
    "            Sizes_true.append(mc[2])\n",
    "            Sizes_cluster.append(cluster_size)\n",
    "            Tracks.append(mc[0])\n",
    "            Effs.append((mc[2]-len(coords[1]))/mc[2])\n",
    "            Purs.append((mc[2]-len(coords[1]))/cluster_size)\n",
    "fig, axes = plt.subplots(2)\n",
    "axes[0].scatter(Sizes_true, Effs, s=2)\n",
    "axes[1].scatter(Sizes_cluster, Effs, s=2)\n",
    "fig, axes = plt.subplots(2)\n",
    "axes[0].scatter(Sizes_true, Purs, s=2)\n",
    "axes[1].scatter(Sizes_cluster, Purs, s=2)"
   ]
  },
  {
   "cell_type": "code",
   "execution_count": null,
   "metadata": {},
   "outputs": [],
   "source": [
    "Sizes_true = np.array(Sizes_true)\n",
    "Sizes_cluster = np.array(Sizes_cluster)\n",
    "Indexes = np.array(Indexes)\n",
    "Tracks = np.array(Tracks)\n",
    "Purs = np.array(Purs)\n",
    "Effs = np.array(Effs)\n",
    "print(np.corrcoef(Sizes_true, Purs))\n",
    "print(np.mean(Purs), np.mean(Effs))\n",
    "print(len(Purs))\n",
    "args = np.argsort(Effs)[:20]\n",
    "#args = Purs>0.2\n",
    "print(Sizes_true[args])\n",
    "print(Sizes_cluster[args])\n",
    "print(Indexes[args])\n",
    "print(Tracks[args])\n",
    "print(Purs[args])\n",
    "print(Effs[args])"
   ]
  },
  {
   "cell_type": "code",
   "execution_count": null,
   "metadata": {},
   "outputs": [],
   "source": [
    "from scipy import stats\n",
    "fig, axes = plt.subplots(2)\n",
    "bin_means, bin_edges, binnumber = stats.binned_statistic(Thetas, Effs, bins=150)\n",
    "axes[0].scatter(Thetas, Effs, s=2)\n",
    "axes[0].hlines(bin_means, bin_edges[:-1], bin_edges[1:], colors='r', lw=5,\n",
    "           label='binned statistic of data')\n",
    "bin_means, bin_edges, binnumber = stats.binned_statistic(Phis, Effs, bins=150)\n",
    "axes[1].scatter(Phis, Effs, s=2)\n",
    "axes[1].hlines(bin_means, bin_edges[:-1], bin_edges[1:], colors='r', lw=5,\n",
    "           label='binned statistic of data')\n",
    "axes[0].set_title(\"Efficiency vs. Theta (Muon)\")\n",
    "axes[1].set_title(\"Efficiency vs. Phi (Muon)\")"
   ]
  },
  {
   "cell_type": "code",
   "execution_count": null,
   "metadata": {},
   "outputs": [],
   "source": [
    "from scipy import stats\n",
    "fig, axes = plt.subplots(2)\n",
    "bin_means, bin_edges, binnumber = stats.binned_statistic(Thetas, Purs, bins=150)\n",
    "axes[0].scatter(Thetas, Purs, s=2)\n",
    "axes[0].hlines(bin_means, bin_edges[:-1], bin_edges[1:], colors='r', lw=5,\n",
    "           label='binned statistic of data')\n",
    "bin_means, bin_edges, binnumber = stats.binned_statistic(Phis, Purs, bins=150)\n",
    "axes[1].scatter(Phis, Purs, s=2)\n",
    "axes[1].hlines(bin_means, bin_edges[:-1], bin_edges[1:], colors='r', lw=5,\n",
    "           label='binned statistic of data')\n",
    "axes[0].set_title(\"Purity vs. Theta (Muon)\")\n",
    "axes[1].set_title(\"Purity vs. Phi (Muon)\")"
   ]
  },
  {
   "cell_type": "code",
   "execution_count": null,
   "metadata": {},
   "outputs": [],
   "source": [
    "E_missing, E_T_active = [], []\n",
    "for index in range(701, 710):\n",
    "    for event in range(50):\n",
    "        xy_file = SIM_DIR+\"reco_1GeV_ElectronWire_xy-v3_3/batch0-reco_singleElectron_%03d_xy-TPC1.npz\"%index\n",
    "        voxel_truth, voxel_active, event_info = products.parse_xy(event, 1/3, xy_file)\n",
    "        voxel_missing, voxel_T_active, _, _ = util.comp_voxels(voxel_truth, voxel_active)\n",
    "        E_missing.extend(voxel_missing.values())\n",
    "        E_T_active.extend(voxel_T_active.values())"
   ]
  },
  {
   "cell_type": "code",
   "execution_count": null,
   "metadata": {},
   "outputs": [],
   "source": [
    "fig, ax = plt.subplots()\n",
    "Ns, bins, _ = ax.hist([E_missing, E_T_active], histtype='step', color=[\"r\", \"b\"], label=[\"True but not Active: N=%d, Sum=%.1f\"%(len(E_missing), sum(E_missing)), \"True and Active: N=%d, Sum=%.1f\"%(len(E_T_active), sum(E_T_active))], bins=np.linspace(0, 3, 16))\n",
    "ax.text(0.3, 5*10**4, \"For E < 0.2MeV, %.1f%% of Voxels Missing from Tiling\"%(100*Ns[0][0]/(Ns[0][0]+Ns[1][0])))\n",
    "\n",
    "ax.set_xticks(bins)\n",
    "ax.set_yscale('log', basey=10)\n",
    "ax.set_title(\"Energy Histo True vs Active\")\n",
    "ax.set_xlabel(\"Energy [MeV]\")\n",
    "ax.set_ylabel(\"# Voxels\")\n",
    "ax.legend()"
   ]
  },
  {
   "cell_type": "code",
   "execution_count": null,
   "metadata": {},
   "outputs": [],
   "source": []
  }
 ],
 "metadata": {
  "kernelspec": {
   "display_name": "Python 3",
   "language": "python",
   "name": "python3"
  },
  "language_info": {
   "codemirror_mode": {
    "name": "ipython",
    "version": 3
   },
   "file_extension": ".py",
   "mimetype": "text/x-python",
   "name": "python",
   "nbconvert_exporter": "python",
   "pygments_lexer": "ipython3",
   "version": "3.7.4"
  }
 },
 "nbformat": 4,
 "nbformat_minor": 4
}
