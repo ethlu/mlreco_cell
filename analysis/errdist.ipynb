{
 "cells": [
  {
   "cell_type": "code",
   "execution_count": null,
   "metadata": {},
   "outputs": [],
   "source": [
    "%load_ext autoreload\n",
    "%autoreload 2\n",
    "%matplotlib widget\n",
    "import numpy as np\n",
    "import pandas as pd\n",
    "import matplotlib.pyplot as plt\n",
    "from IPython.display import display, Markdown, clear_output\n",
    "import ipywidgets as widgets\n",
    "import analysis.yinf as yinf\n",
    "import analysis.products as products\n",
    "import analysis.util as util\n",
    "from data.util import *\n",
    "import os, sys, re\n",
    "from scipy.stats import gaussian_kde\n",
    "ML_DIR = os.path.expandvars(\"$SCRATCH/mlreco_cell/\")\n",
    "NETS = dict(enumerate(sorted([d for d in os.listdir(os.path.expandvars(ML_DIR))])))\n",
    "SIM_DIR = os.path.expandvars(\"$SCRATCH/larsim/\")\n",
    "SIMS = dict(enumerate(sorted([d for d in os.listdir(os.path.expandvars(SIM_DIR)) if \"reco\" in d])))\n",
    "\n",
    "def parse_stats_dir(stats_dir = './stats'):\n",
    "    stats_files = []\n",
    "    for root, dirs, files in os.walk(stats_dir):\n",
    "        rel_path = os.path.relpath(root, stats_dir)\n",
    "        if rel_path.count('/') != 1: continue\n",
    "        slash_i = rel_path.find('/')\n",
    "        header = [rel_path[:slash_i], rel_path[slash_i+1:]]\n",
    "        for f in files:\n",
    "            epoch, _ = inf_file_info(f)\n",
    "            thres = re.findall('thres([0-9]*[.]?[0-9]+)', f)\n",
    "            if len(thres) == 1: \n",
    "                thres = float(thres[0])\n",
    "            else:\n",
    "                thres = -1\n",
    "            stats_files.append(header+[epoch, thres, root+'/'+f])\n",
    "    return pd.DataFrame(stats_files, columns=['net', 'inf', 'epoch', 'thres', 'file'])\n",
    "\n",
    "STATS = parse_stats_dir().sort_values(by=['epoch'])\n",
    "\n",
    "def select_stats(net=None, inf=None, thres=None, first=0, last=-1, stride=1, stats_df=STATS):\n",
    "    if net is not None:\n",
    "        stats_df = stats_df[stats_df.net==net]\n",
    "    if inf is not None:\n",
    "        stats_df = stats_df[stats_df.inf==inf]\n",
    "    if thres is not None:\n",
    "        stats_df = stats_df[stats_df.thres==thres]\n",
    "    if last == -1:\n",
    "        epochs = sorted(set(stats_df.epoch))[first::stride]\n",
    "    else:\n",
    "        epochs = sorted(set(stats_df.epoch))[first:last+1:stride]\n",
    "    return list(stats_df[stats_df.epoch.isin(epochs)]['file'])\n"
   ]
  },
  {
   "cell_type": "code",
   "execution_count": null,
   "metadata": {},
   "outputs": [],
   "source": [
    "NETS"
   ]
  },
  {
   "cell_type": "code",
   "execution_count": null,
   "metadata": {},
   "outputs": [],
   "source": [
    "SIMS"
   ]
  },
  {
   "cell_type": "code",
   "execution_count": null,
   "metadata": {},
   "outputs": [],
   "source": [
    "def errdist(event, true_thres, thres, xy_dir, yinf_file):\n",
    "    xy_file = yinf.get_xy_file(xy_dir, yinf_file)\n",
    "    voxel_truth, voxel_active, event_info = products.parse_xy(event, 1, xy_file)\n",
    "    voxel_truth = util.filter_voxel_val(voxel_truth, true_thres)\n",
    "    voxel_ghost, _, voxel_truth, _ = util.comp_voxels(voxel_active, voxel_truth)\n",
    "    voxel_yinf = yinf.parse_yinf(event_info, yinf_file)\n",
    "    voxel_P = util.filter_voxel_val(voxel_yinf, thres)\n",
    "    voxel_FN, _, _, voxel_FP = util.comp_voxels(voxel_truth, voxel_P)\n",
    "    from scipy.spatial import KDTree\n",
    "    kd_tree_truth = KDTree(list(voxel_truth.keys()))\n",
    "    kd_tree_ghost = KDTree(list(voxel_ghost.keys()))\n",
    "    FN_dists, _ = kd_tree_ghost.query(list(voxel_FN.keys()))\n",
    "    FP_dists, _ = kd_tree_truth.query(list(voxel_FP.keys()))\n",
    "    return FN_dists, FP_dists\n",
    "\n",
    "FN_dists, FP_dists = [], []\n",
    "for index in range(20, 50):\n",
    "    for event in range(5):\n",
    "        FN_dist, FP_dist = errdist(event, 0.17, .5, xy_dir=SIM_DIR+\"reco_1GeV_BeamCosmic_xy/\", yinf_file=ML_DIR+\"singleE-BeamCosmic-tpc1_ghost3D-164-lr0.01/inference/epoch24-batch0-reco_BeamCosmic_%03d_yinf-TPC1.npy\"%index)\n",
    "        FN_dists.extend(FN_dist)\n",
    "        FP_dists.extend(FP_dist)"
   ]
  },
  {
   "cell_type": "code",
   "execution_count": null,
   "metadata": {},
   "outputs": [],
   "source": [
    "fig, ax = plt.subplots()\n",
    "\n",
    "Ns, bins, _ = ax.hist([FN_dists, FP_dists], histtype='step', label=[\"FN: N=%d\"%len(FN_dists), \"FP: N=%d\"%len(FP_dists)], bins=np.arange(20), weights=[np.ones(len(FN_dists))/len(FN_dists), np.ones(len(FP_dists))/len(FP_dists)])\n",
    "ax.text(3, 0.2, \"Proportion of FN with distance < 2: %.3f\"%Ns[0][1])\n",
    "ax.text(3, 0.5, \"Proportion of FP with distance < 2: %.3f\"%Ns[1][1])\n",
    "ax.set_xticks(bins)\n",
    "ax.set_yscale('log', basey=10)\n",
    "ax.set_title(\"Distance of Misclassified Voxel to its Predicted Class of Voxels\")\n",
    "ax.set_xlabel(\"Distance [voxel size]\")\n",
    "ax.set_ylabel(\"Proportion\")\n",
    "ax.legend()"
   ]
  },
  {
   "cell_type": "code",
   "execution_count": null,
   "metadata": {},
   "outputs": [],
   "source": [
    "def errdist(event, true_thres, thres, xy_dir, yinf_file):\n",
    "    xy_file = yinf.get_xy_file(xy_dir, yinf_file)\n",
    "    voxel_truth, voxel_active, event_info = products.parse_xy(event, 1, xy_file)\n",
    "    voxel_truth = util.filter_voxel_val(voxel_truth, true_thres)\n",
    "    voxel_T_active = util.filter_voxels_coords(voxel_active.keys(), voxel_truth)[0]\n",
    "    voxel_yinf = yinf.parse_yinf(event_info, yinf_file)\n",
    "    voxel_P = util.filter_voxel_val(voxel_yinf, thres)\n",
    "    voxel_FN, _, _, voxel_FP = util.comp_voxels(voxel_truth, voxel_P)\n",
    "    from scipy.spatial import distance\n",
    "    #print(voxel_P)\n",
    "    return np.min(distance.cdist(list(voxel_FP.keys()), list(voxel_T_active.keys())), axis=1)\n",
    "\n",
    "FN_dists = []\n",
    "for index in range(953, 954):\n",
    "    for event in range(10):\n",
    "        #FN_dists.extend(errdist(event, 0., 0, xy_dir=SIM_DIR+\"reco_1GeV_BeamCosmic_xy/\", yinf_file=ML_DIR+\"singleE-BeamCosmic-tpc1_ghost3D-164-lr0.01/inference/epoch24-batch0-reco_BeamCosmic_%03d_yinf-TPC1.npy\"%index))\n",
    "        \n",
    "        FN_dists.extend(errdist(event, 0., 0, xy_dir=SIM_DIR+\"reco_1GeV_ElectronWire_xy-v3_3/\", yinf_file=ML_DIR+\"singleE-BeamCosmic-tpc1_ghost3D-164-lr0.01/inference/epoch24-batch0-reco_singleElectron_%03d_yinf-TPC1.npy\"%index))\n"
   ]
  },
  {
   "cell_type": "code",
   "execution_count": null,
   "metadata": {},
   "outputs": [],
   "source": [
    "fig, ax = plt.subplots()\n",
    "\n",
    "Ns, bins, _ = ax.hist(FN_dists, histtype='step', label=\"FP: N=%d\"%len(FN_dists), bins=np.arange(20), cumulative=True, weights=np.ones(len(FN_dists))/len(FN_dists))\n",
    "ax.text(3, 0.2, \"Proportion of FN with distance < 2: %.3f\"%Ns[1])\n",
    "#ax.text(3, 0.5, \"Proportion of FP with distance < 2: %.3f\"%Ns[1][1])\n",
    "ax.set_xticks(bins)\n",
    "ax.set_yscale('log', basey=10)\n",
    "ax.set_title(\"Distance of Misclassified Voxel to its Predicted Class of Voxels\")\n",
    "ax.set_xlabel(\"Distance [voxel size]\")\n",
    "ax.set_ylabel(\"Proportion\")\n",
    "ax.legend()"
   ]
  },
  {
   "cell_type": "code",
   "execution_count": null,
   "metadata": {},
   "outputs": [],
   "source": []
  }
 ],
 "metadata": {
  "kernelspec": {
   "display_name": "Python 3",
   "language": "python",
   "name": "python3"
  },
  "language_info": {
   "codemirror_mode": {
    "name": "ipython",
    "version": 3
   },
   "file_extension": ".py",
   "mimetype": "text/x-python",
   "name": "python",
   "nbconvert_exporter": "python",
   "pygments_lexer": "ipython3",
   "version": "3.7.4"
  }
 },
 "nbformat": 4,
 "nbformat_minor": 4
}
